{
 "cells": [
  {
   "cell_type": "markdown",
   "metadata": {},
   "source": [
    "# PEP 201 – Lockstep Iteration"
   ]
  },
  {
   "cell_type": "markdown",
   "metadata": {},
   "source": [
    "## What does lockstep mean?"
   ]
  },
  {
   "cell_type": "markdown",
   "metadata": {},
   "source": [
    "[Lockstep](https://en.wikipedia.org/wiki/Lockstep) is marching in a very close\n",
    "formation with synchronized steps.\n",
    "\n",
    "<!-- Photo by <a href=\"https://unsplash.com/@mrmarkdejong?utm_source=unsplash&utm_medium=referral&utm_content=creditCopyText\">Mark de Jong</a> on <a href=\"https://unsplash.com/photos/YN1bBaxtqJg?utm_source=unsplash&utm_medium=referral&utm_content=creditCopyText\">Unsplash</a> -->\n",
    "![Lockstep Marching](imgs/marching.jpg)"
   ]
  },
  {
   "cell_type": "markdown",
   "metadata": {},
   "source": [
    "## Lockstep Iteration and its Motivtion"
   ]
  },
  {
   "cell_type": "markdown",
   "metadata": {},
   "source": [
    "Lockstep iteration is a way to iterate over multiple sequences in a lock-step fashsion such that the i-th iteration through the loop returns an object containing the i-th element from each sequence."
   ]
  },
  {
   "cell_type": "markdown",
   "metadata": {},
   "source": [
    "![Lockstep Iteration](imgs/Lockstep%20Iteration.png)"
   ]
  },
  {
   "cell_type": "markdown",
   "metadata": {},
   "source": [
    "Standard for-loops in Python iterate over every element in only a single sequence.\n",
    "It is often desirable to loop over multiple sequences"
   ]
  },
  {
   "cell_type": "markdown",
   "metadata": {},
   "source": [
    "## How to do Lockstep Iteration before zip is available"
   ]
  },
  {
   "cell_type": "code",
   "execution_count": 4,
   "metadata": {},
   "outputs": [
    {
     "name": "stdout",
     "output_type": "stream",
     "text": [
      "(1, 'a')\n",
      "(2, 'b')\n",
      "(3, 'c')\n"
     ]
    }
   ],
   "source": [
    "for g in map(lambda *elements: elements, [1, 2, 3], ['a', 'b', 'c']):\n",
    "    print(g)"
   ]
  }
 ],
 "metadata": {
  "kernelspec": {
   "display_name": "Python 3",
   "language": "python",
   "name": "python3"
  },
  "language_info": {
   "codemirror_mode": {
    "name": "ipython",
    "version": 3
   },
   "file_extension": ".py",
   "mimetype": "text/x-python",
   "name": "python",
   "nbconvert_exporter": "python",
   "pygments_lexer": "ipython3",
   "version": "3.8.10"
  },
  "orig_nbformat": 4
 },
 "nbformat": 4,
 "nbformat_minor": 2
}
